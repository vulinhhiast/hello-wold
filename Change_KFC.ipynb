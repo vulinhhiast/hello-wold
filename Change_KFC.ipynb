{
  "nbformat": 4,
  "nbformat_minor": 0,
  "metadata": {
    "colab": {
      "name": "Change-KFC.ipynb",
      "provenance": [],
      "authorship_tag": "ABX9TyPB99GpKrRnjOL4aZa9+k2d",
      "include_colab_link": true
    },
    "kernelspec": {
      "name": "python3",
      "display_name": "Python 3"
    }
  },
  "cells": [
    {
      "cell_type": "markdown",
      "metadata": {
        "id": "view-in-github",
        "colab_type": "text"
      },
      "source": [
        "<a href=\"https://colab.research.google.com/github/vulinhhiast/hello-wold/blob/master/Change_KFC.ipynb\" target=\"_parent\"><img src=\"https://colab.research.google.com/assets/colab-badge.svg\" alt=\"Open In Colab\"/></a>"
      ]
    },
    {
      "cell_type": "code",
      "metadata": {
        "id": "CcMld3PKxNqC",
        "colab_type": "code",
        "colab": {
          "base_uri": "https://localhost:8080/",
          "height": 85
        },
        "outputId": "8da47b3d-1ff9-4e3c-92ae-f3e63f9b5420"
      },
      "source": [
        "#C=5/9(F-32)\n",
        "#K=(F-32)/1.8 + 273.15\n",
        "doF = float(input('Mời bạn nhập nhiệt độ F đầu vào cần chuyển đổi:'))\n",
        "#xử lý hàm int() để chuyển đổi giá trị nhập vào thành số nguyên.\n",
        "doC=0; doK=0\n",
        "print('Nhiệt độ theo thang đo F:',doF)\n",
        "doC=round((5/9)*(doF-32))\n",
        "doK=round((doF-32)/1.8+273.15,3)\n",
        "#hàm round() để làm tròn số\n",
        "print('Nhiệt độ được chuyển đổi qua độ C:',doC,)\n",
        "print('Nhiệt độ được chuyển đổi qua độ K:',doK,)"
      ],
      "execution_count": 21,
      "outputs": [
        {
          "output_type": "stream",
          "text": [
            "Mời bạn nhập nhiệt độ F đầu vào cần chuyển đổi:658.4\n",
            "Nhiệt độ theo thang đo F: 658.4\n",
            "Nhiệt độ được chuyển đổi qua độ C: 348\n",
            "Nhiệt độ được chuyển đổi qua độ K: 621.15\n"
          ],
          "name": "stdout"
        }
      ]
    }
  ]
}